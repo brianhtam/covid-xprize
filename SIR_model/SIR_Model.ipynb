{
 "cells": [
  {
   "cell_type": "markdown",
   "metadata": {},
   "source": [
    "## S-I-R model\n",
    "\n",
    "System of differential equations:\n",
    "\n",
    "$$\n",
    "\\begin{equation}\n",
    "    \\left\\{\n",
    "    \\begin{array}{lll}\n",
    "    \\frac{dS}{dt} = -\\frac{\\beta SI}{N}   \\\\\n",
    "    \\frac{dI}{dt} = \\frac{\\beta SI}{N} - \\gamma I \\\\\n",
    "    \\frac{dR}{dt} = \\gamma I\n",
    "    \\end{array} \\right.\n",
    "\\end{equation}\n",
    "$$\n",
    "\n",
    "Where   \n",
    "$S = $ number of susceptible people  \n",
    "$I = $ number of currently infected people  \n",
    "$R = $ number of people that have recovered or died from the disease  \n",
    "\n",
    "$N =$ \"population size\"  \n",
    "$\\beta =$ \"infection rate\"  \n",
    "$\\gamma =$ \"recovery rate\" (This should also include deaths)  "
   ]
  },
  {
   "cell_type": "code",
   "execution_count": 35,
   "metadata": {},
   "outputs": [],
   "source": [
    "import numpy as np\n",
    "from scipy.integrate import odeint\n",
    "import matplotlib.pyplot as plt"
   ]
  },
  {
   "cell_type": "markdown",
   "metadata": {},
   "source": [
    "### Pull population and initial conditions from data\n",
    "\n",
    "N = Population\n",
    "S0 = population - total cases  \n",
    "I0 = total cases - deaths - recovered  \n",
    "R0 = deaths + recovered"
   ]
  },
  {
   "cell_type": "code",
   "execution_count": null,
   "metadata": {},
   "outputs": [],
   "source": [
    "# Total population, N\n",
    "N = country_population\n",
    "deaths = country_deaths\n",
    "#recovered = total_confirmed_cases - deaths\n",
    "\n",
    "\n",
    "# Initial conditions\n",
    "R0 = recovered + deaths\n",
    "I0 = total_confirmed_cases - R0\n",
    "S0 = N - I0 - R0 #note that S0 is also our upper limit"
   ]
  },
  {
   "cell_type": "markdown",
   "metadata": {},
   "source": [
    "### Estimate parameters from Ryan's model"
   ]
  },
  {
   "cell_type": "code",
   "execution_count": 34,
   "metadata": {},
   "outputs": [],
   "source": [
    "# Contact rate, beta, and mean recovery rate, gamma, (in 1/days)\n",
    "beta = 0.2\n",
    "gamma = 1./14 #assume 14days is the recovery time \n",
    "\n",
    "\n",
    "# A grid of time points (in days)\n",
    "t = np.linspace(0, 160, 160)\n",
    "\n",
    "# The SIR model differential equations\n",
    "def deriv(y, t, N, beta, gamma):\n",
    "    S, I, R = y #initial conditions\n",
    "    \n",
    "    #model = system of differential equations\n",
    "    dSdt = -beta * S * I / N\n",
    "    dIdt = beta * S * I / N - gamma * I\n",
    "    dRdt = gamma * I\n",
    "    \n",
    "    return dSdt, dIdt, dRdt\n",
    "\n",
    "# Initial conditions vector\n",
    "y0 = S0, I0, R0\n",
    "\n",
    "# Integrate the SIR equations over the time grid, t\n",
    "ret = odeint(deriv, y0, t, args=(N, beta, gamma))\n",
    "S, I, R = ret.T"
   ]
  },
  {
   "cell_type": "markdown",
   "metadata": {},
   "source": [
    "### Plot"
   ]
  },
  {
   "cell_type": "code",
   "execution_count": null,
   "metadata": {},
   "outputs": [],
   "source": [
    "# Plot the data on three separate curves for S(t), I(t) and R(t)\n",
    "fig = plt.figure(facecolor='w')\n",
    "ax = fig.add_subplot(111, facecolor='#dddddd', axisbelow=True)\n",
    "ax.plot(t, S/N, 'b', alpha=0.5, lw=2, label='Susceptible')\n",
    "ax.plot(t, I/N, 'r', alpha=0.5, lw=2, label='Infected')\n",
    "ax.plot(t, R/N, 'g', alpha=0.5, lw=2, label='Recovered with immunity')\n",
    "ax.set_xlabel('Time /days')\n",
    "ax.set_ylabel('Number (1000s)')\n",
    "ax.set_ylim(0,1.2)\n",
    "ax.yaxis.set_tick_params(length=0)\n",
    "ax.xaxis.set_tick_params(length=0)\n",
    "ax.grid(b=True, which='major', c='w', lw=2, ls='-')\n",
    "legend = ax.legend()\n",
    "legend.get_frame().set_alpha(0.5)\n",
    "for spine in ('top', 'right', 'bottom', 'left'):\n",
    "    ax.spines[spine].set_visible(False)\n",
    "plt.show()"
   ]
  },
  {
   "cell_type": "markdown",
   "metadata": {},
   "source": [
    "#### Example"
   ]
  },
  {
   "cell_type": "code",
   "execution_count": 33,
   "metadata": {},
   "outputs": [
    {
     "data": {
      "image/png": "[encoded data removed]",
      "text/plain": [
       "<Figure size 432x288 with 1 Axes>"
      ]
     },
     "metadata": {},
     "output_type": "display_data"
    }
   ],
   "source": [
    "import numpy as np\n",
    "from scipy.integrate import odeint\n",
    "import matplotlib.pyplot as plt\n",
    "\n",
    "# Total population, N.\n",
    "N = 10000\n",
    "# Initial number of infected and recovered individuals, I0 and R0.\n",
    "I0, R0 = 50, 20\n",
    "# Everyone else, S0, is susceptible to infection initially.\n",
    "S0 = N - I0 - R0\n",
    "\n",
    "# Contact rate, beta, and mean recovery rate, gamma, (in 1/days).\n",
    "beta, gamma = 0.2, 1./14 \n",
    "# A grid of time points (in days)\n",
    "t = np.linspace(0, 160, 160)\n",
    "\n",
    "# The SIR model differential equations.\n",
    "def deriv(y, t, N, beta, gamma):\n",
    "    S, I, R = y\n",
    "    dSdt = -beta * S * I / N\n",
    "    dIdt = beta * S * I / N - gamma * I\n",
    "    dRdt = gamma * I\n",
    "    return dSdt, dIdt, dRdt\n",
    "\n",
    "# Initial conditions vector\n",
    "y0 = S0, I0, R0\n",
    "# Integrate the SIR equations over the time grid, t.\n",
    "ret = odeint(deriv, y0, t, args=(N, beta, gamma))\n",
    "S, I, R = ret.T\n",
    "\n",
    "# Plot the data on three separate curves for S(t), I(t) and R(t)\n",
    "fig = plt.figure(facecolor='w')\n",
    "ax = fig.add_subplot(111, facecolor='#dddddd', axisbelow=True)\n",
    "ax.plot(t, S/10000, 'b', alpha=0.5, lw=2, label='Susceptible')\n",
    "ax.plot(t, I/10000, 'r', alpha=0.5, lw=2, label='Infected')\n",
    "ax.plot(t, R/10000, 'g', alpha=0.5, lw=2, label='Recovered with immunity')\n",
    "ax.set_xlabel('Time /days')\n",
    "ax.set_ylabel('Number (10000s)')\n",
    "ax.set_ylim(0,1.2)\n",
    "ax.yaxis.set_tick_params(length=0)\n",
    "ax.xaxis.set_tick_params(length=0)\n",
    "ax.grid(b=True, which='major', c='w', lw=2, ls='-')\n",
    "legend = ax.legend()\n",
    "legend.get_frame().set_alpha(0.5)\n",
    "for spine in ('top', 'right', 'bottom', 'left'):\n",
    "    ax.spines[spine].set_visible(False)\n",
    "plt.show()"
   ]
  },
  {
   "cell_type": "code",
   "execution_count": null,
   "metadata": {},
   "outputs": [],
   "source": []
  }
 ],
 "metadata": {
  "kernelspec": {
   "display_name": "Python 3",
   "language": "python",
   "name": "python3"
  },
  "language_info": {
   "codemirror_mode": {
    "name": "ipython",
    "version": 3
   },
   "file_extension": ".py",
   "mimetype": "text/x-python",
   "name": "python",
   "nbconvert_exporter": "python",
   "pygments_lexer": "ipython3",
   "version": "3.8.5"
  }
 },
 "nbformat": 4,
 "nbformat_minor": 4
}
