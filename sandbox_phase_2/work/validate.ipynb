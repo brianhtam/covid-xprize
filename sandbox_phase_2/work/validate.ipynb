{
 "cells": [
  {
   "cell_type": "code",
   "execution_count": null,
   "metadata": {},
   "outputs": [],
   "source": [
    "%load_ext autoreload\n",
    "%autoreload 2\n",
    "%config IPCompleter.greedy=True"
   ]
  },
  {
   "cell_type": "code",
   "execution_count": 4,
   "metadata": {},
   "outputs": [],
   "source": [
    "import sys\n",
    "sys.path.append('..')\n",
    "import importlib  \n",
    "import pandas as pd\n",
    "from andrew.util.prescribe_helper import prescribe_help\n",
    "val = importlib.import_module(\"covid-xprize-robotasks-main.judging.scripts.prescribe.prescriptor_validation\")\n"
   ]
  },
  {
   "cell_type": "code",
   "execution_count": null,
   "metadata": {},
   "outputs": [],
   "source": [
    "import tensorflow as tf"
   ]
  },
  {
   "cell_type": "code",
   "execution_count": null,
   "metadata": {},
   "outputs": [],
   "source": [
    "class TestLayer(tf.keras.layers.Layer):\n",
    "    def __init__(self):\n",
    "        super().__init__()\n",
    "        self.w = tf.Variable(\n",
    "            initial_value = tf.constant(2.0, dtype='float32'),\n",
    "            trainable=True)\n",
    "    def call(self, inputs):\n",
    "        return tf.math.multiply(inputs, self.w)\n",
    "            "
   ]
  },
  {
   "cell_type": "code",
   "execution_count": null,
   "metadata": {},
   "outputs": [],
   "source": [
    "import time"
   ]
  },
  {
   "cell_type": "code",
   "execution_count": null,
   "metadata": {},
   "outputs": [],
   "source": [
    "a = tf.keras.layers.Input(shape=(), name=\"test\")\n",
    "test_layers = [TestLayer()(a)]\n",
    "test_layers_2 = [TestLayer()(a)]\n",
    "for i in range(100):\n",
    "    test_layers.append(TestLayer()(test_layers_2[-1]))\n",
    "    test_layers_2.append(TestLayer()(test_layers[-1]))\n",
    "    \n",
    "#b = TestLayer()(a)\n",
    "mod = tf.keras.models.Model(inputs=a, outputs=[test_layers[-1], test_layers_2[-1]])\n",
    "inp = tf.constant([10.0])\n",
    "opt = tf.keras.optimizers.SGD()"
   ]
  },
  {
   "cell_type": "code",
   "execution_count": null,
   "metadata": {},
   "outputs": [],
   "source": [
    "@tf.function\n",
    "def non_exp():\n",
    "    with tf.GradientTape() as tape:\n",
    "        z = mod(inp)\n",
    "        loss = z\n",
    "        gradients = tape.gradient(loss, mod.trainable_weights)\n",
    "        opt.apply_gradients(zip(gradients, mod.trainable_weights))"
   ]
  },
  {
   "cell_type": "code",
   "execution_count": null,
   "metadata": {},
   "outputs": [],
   "source": [
    "start = time.time()\n",
    "non_exp()\n",
    "end = time.time()\n",
    "print(end-start)"
   ]
  },
  {
   "cell_type": "code",
   "execution_count": null,
   "metadata": {},
   "outputs": [],
   "source": [
    "start = time.time()\n",
    "for i in range(10000):\n",
    "    non_exp()\n",
    "end = time.time()\n",
    "print(end-start)"
   ]
  },
  {
   "cell_type": "code",
   "execution_count": null,
   "metadata": {},
   "outputs": [],
   "source": [
    "a_x = tf.keras.layers.Input(shape=(), name=\"test_x\")\n",
    "test_layers_x = [TestLayer()(a_x)]\n",
    "test_layers_2_x = [TestLayer()(a_x)]\n",
    "for i in range(100):\n",
    "    test_layers_x.append(TestLayer()(test_layers_2_x[-1]))\n",
    "    test_layers_2_x.append(TestLayer()(test_layers_x[-1]))\n",
    "    \n",
    "#b = TestLayer()(a)\n",
    "mod_x = tf.keras.models.Model(inputs=a_x, outputs=[test_layers_x[-1], test_layers_2_x[-1]])\n",
    "inp_x = tf.constant([10.0])\n",
    "opt_x = tf.keras.optimizers.SGD()"
   ]
  },
  {
   "cell_type": "code",
   "execution_count": null,
   "metadata": {},
   "outputs": [],
   "source": [
    "@tf.function(experimental_compile=True)\n",
    "def exp():\n",
    "    with tf.GradientTape() as tape:\n",
    "        z = mod_x(inp_x)\n",
    "        loss = z\n",
    "        gradients = tape.gradient(loss, mod_x.trainable_weights)\n",
    "        opt_x.apply_gradients(zip(gradients, mod_x.trainable_weights))"
   ]
  },
  {
   "cell_type": "code",
   "execution_count": null,
   "metadata": {},
   "outputs": [],
   "source": [
    "start = time.time()\n",
    "exp()\n",
    "end = time.time()\n",
    "print(end-start)"
   ]
  },
  {
   "cell_type": "code",
   "execution_count": null,
   "metadata": {},
   "outputs": [],
   "source": [
    "start = time.time()\n",
    "for i in range(10000):\n",
    "    exp()\n",
    "end = time.time()\n",
    "print(end-start)"
   ]
  },
  {
   "cell_type": "code",
   "execution_count": null,
   "metadata": {},
   "outputs": [],
   "source": [
    "! python test.py"
   ]
  },
  {
   "cell_type": "code",
   "execution_count": null,
   "metadata": {},
   "outputs": [],
   "source": [
    "prescribe_help(\"2021-02-01\", \"2021-02-03\", '../covid-xprize-robotasks-main/ips/prescriptions/uk_future_test_ips.csv', '../covid-xprize-robotasks-main/ip_costs/uniform_random_costs.csv', 'test.csv')"
   ]
  },
  {
   "cell_type": "code",
   "execution_count": 12,
   "metadata": {},
   "outputs": [],
   "source": [
    "tasks = pd.read_csv('../covid-xprize-robotasks-main/tasks/prescribe_tasks.csv')"
   ]
  },
  {
   "cell_type": "code",
   "execution_count": 14,
   "metadata": {},
   "outputs": [
    {
     "data": {
      "text/html": [
       "<div>\n",
       "<style scoped>\n",
       "    .dataframe tbody tr th:only-of-type {\n",
       "        vertical-align: middle;\n",
       "    }\n",
       "\n",
       "    .dataframe tbody tr th {\n",
       "        vertical-align: top;\n",
       "    }\n",
       "\n",
       "    .dataframe thead th {\n",
       "        text-align: right;\n",
       "    }\n",
       "</style>\n",
       "<table border=\"1\" class=\"dataframe\">\n",
       "  <thead>\n",
       "    <tr style=\"text-align: right;\">\n",
       "      <th></th>\n",
       "      <th>StartDate</th>\n",
       "      <th>EndDate</th>\n",
       "      <th>IpFile</th>\n",
       "      <th>CostFile</th>\n",
       "      <th>OutputFile</th>\n",
       "    </tr>\n",
       "  </thead>\n",
       "  <tbody>\n",
       "    <tr>\n",
       "      <th>0</th>\n",
       "      <td>2021-02-15</td>\n",
       "      <td>2021-05-15</td>\n",
       "      <td>~/covid-xprize-robotasks-main/ips/prescription...</td>\n",
       "      <td>~/covid-xprize-robotasks-main/ip_costs/fixed_e...</td>\n",
       "      <td>~/work/prescriptions/uk_future_test_task.csv</td>\n",
       "    </tr>\n",
       "    <tr>\n",
       "      <th>1</th>\n",
       "      <td>2021-01-01</td>\n",
       "      <td>2021-03-31</td>\n",
       "      <td>~/covid-xprize-robotasks-main/ips/prescription...</td>\n",
       "      <td>~/covid-xprize-robotasks-main/ip_costs/uniform...</td>\n",
       "      <td>~/work/prescriptions/all_2021q1_test_task.csv</td>\n",
       "    </tr>\n",
       "  </tbody>\n",
       "</table>\n",
       "</div>"
      ],
      "text/plain": [
       "    StartDate     EndDate                                             IpFile  \\\n",
       "0  2021-02-15  2021-05-15  ~/covid-xprize-robotasks-main/ips/prescription...   \n",
       "1  2021-01-01  2021-03-31  ~/covid-xprize-robotasks-main/ips/prescription...   \n",
       "\n",
       "                                            CostFile  \\\n",
       "0  ~/covid-xprize-robotasks-main/ip_costs/fixed_e...   \n",
       "1  ~/covid-xprize-robotasks-main/ip_costs/uniform...   \n",
       "\n",
       "                                      OutputFile  \n",
       "0   ~/work/prescriptions/uk_future_test_task.csv  \n",
       "1  ~/work/prescriptions/all_2021q1_test_task.csv  "
      ]
     },
     "execution_count": 14,
     "metadata": {},
     "output_type": "execute_result"
    }
   ],
   "source": [
    "tasks"
   ]
  },
  {
   "cell_type": "code",
   "execution_count": 15,
   "metadata": {},
   "outputs": [],
   "source": [
    "task = tasks.iloc[0]\n",
    "start_date = \"2021-02-01\"#task[\"StartDate\"]\n",
    "end_date = \"2021-02-03\"#task[\"EndDate\"]\n",
    "ip_file = task[\"IpFile\"]\n",
    "#submission_file = 'prescriptions/all_2021q1_test_task.csv'\n",
    "submission_file = 'andrew/test.csv'"
   ]
  },
  {
   "cell_type": "code",
   "execution_count": 23,
   "metadata": {},
   "outputs": [],
   "source": [
    "val.validate_submission(start_date, end_date, ip_file, submission_file)"
   ]
  },
  {
   "cell_type": "code",
   "execution_count": 24,
   "metadata": {},
   "outputs": [],
   "source": [
    "! python ../covid-xprize-robotasks-main/judging/scripts/prescribe/prescriptor_validation.py -s {start_date} -e {end_date} -ip {ip_file} -f {submission_file}"
   ]
  },
  {
   "cell_type": "code",
   "execution_count": null,
   "metadata": {},
   "outputs": [],
   "source": []
  }
 ],
 "metadata": {
  "kernelspec": {
   "display_name": "Python [conda env:metis] *",
   "language": "python",
   "name": "conda-env-metis-py"
  },
  "language_info": {
   "codemirror_mode": {
    "name": "ipython",
    "version": 3
   },
   "file_extension": ".py",
   "mimetype": "text/x-python",
   "name": "python",
   "nbconvert_exporter": "python",
   "pygments_lexer": "ipython3",
   "version": "3.8.5"
  }
 },
 "nbformat": 4,
 "nbformat_minor": 4
}
